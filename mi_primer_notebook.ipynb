{
 "cells": [
  {
   "cell_type": "code",
   "execution_count": 1,
   "id": "1df03e39-1fb9-42f7-b22a-500b2b1a023d",
   "metadata": {},
   "outputs": [
    {
     "name": "stdout",
     "output_type": "stream",
     "text": [
      "Hola Mundo\n"
     ]
    }
   ],
   "source": [
    "print (\"Hola Mundo\")"
   ]
  },
  {
   "cell_type": "markdown",
   "id": "e3c33500-4824-435e-add6-ff2639a048d6",
   "metadata": {},
   "source": [
    "Hola Mundo_2"
   ]
  },
  {
   "cell_type": "code",
   "execution_count": null,
   "id": "88f9c55b-c660-42b7-834d-4a9772a3ef76",
   "metadata": {},
   "outputs": [],
   "source": []
  }
 ],
 "metadata": {
  "kernelspec": {
   "display_name": "Python 3 (ipykernel)",
   "language": "python",
   "name": "python3"
  },
  "language_info": {
   "codemirror_mode": {
    "name": "ipython",
    "version": 3
   },
   "file_extension": ".py",
   "mimetype": "text/x-python",
   "name": "python",
   "nbconvert_exporter": "python",
   "pygments_lexer": "ipython3",
   "version": "3.12.3"
  }
 },
 "nbformat": 4,
 "nbformat_minor": 5
}
